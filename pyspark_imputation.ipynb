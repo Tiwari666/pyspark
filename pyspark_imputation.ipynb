{
  "nbformat": 4,
  "nbformat_minor": 0,
  "metadata": {
    "colab": {
      "provenance": [],
      "authorship_tag": "ABX9TyNxhEmZT4uFWM4NTSc99EX3",
      "include_colab_link": true
    },
    "kernelspec": {
      "name": "python3",
      "display_name": "Python 3"
    },
    "language_info": {
      "name": "python"
    }
  },
  "cells": [
    {
      "cell_type": "markdown",
      "metadata": {
        "id": "view-in-github",
        "colab_type": "text"
      },
      "source": [
        "<a href=\"https://colab.research.google.com/github/Tiwari666/pyspark/blob/main/pyspark_imputation.ipynb\" target=\"_parent\"><img src=\"https://colab.research.google.com/assets/colab-badge.svg\" alt=\"Open In Colab\"/></a>"
      ]
    },
    {
      "cell_type": "code",
      "source": [
        "!pip install pyspark\n",
        "import pyspark"
      ],
      "metadata": {
        "colab": {
          "base_uri": "https://localhost:8080/"
        },
        "id": "wzoO9AwMbY18",
        "outputId": "1fec4868-5507-436a-aa3a-80fcfb1a5bb2"
      },
      "execution_count": null,
      "outputs": [
        {
          "output_type": "stream",
          "name": "stdout",
          "text": [
            "Collecting pyspark\n",
            "  Downloading pyspark-3.5.1.tar.gz (317.0 MB)\n",
            "\u001b[2K     \u001b[90m━━━━━━━━━━━━━━━━━━━━━━━━━━━━━━━━━━━━━━━━\u001b[0m \u001b[32m317.0/317.0 MB\u001b[0m \u001b[31m2.2 MB/s\u001b[0m eta \u001b[36m0:00:00\u001b[0m\n",
            "\u001b[?25h  Preparing metadata (setup.py) ... \u001b[?25l\u001b[?25hdone\n",
            "Requirement already satisfied: py4j==0.10.9.7 in /usr/local/lib/python3.10/dist-packages (from pyspark) (0.10.9.7)\n",
            "Building wheels for collected packages: pyspark\n",
            "  Building wheel for pyspark (setup.py) ... \u001b[?25l\u001b[?25hdone\n",
            "  Created wheel for pyspark: filename=pyspark-3.5.1-py2.py3-none-any.whl size=317488491 sha256=7316852cb9ea8e194c06728393009d04b9ae09c2a1953c4266f61bc28b3606e3\n",
            "  Stored in directory: /root/.cache/pip/wheels/80/1d/60/2c256ed38dddce2fdd93be545214a63e02fbd8d74fb0b7f3a6\n",
            "Successfully built pyspark\n",
            "Installing collected packages: pyspark\n",
            "Successfully installed pyspark-3.5.1\n"
          ]
        }
      ]
    },
    {
      "cell_type": "code",
      "source": [
        "from pyspark.sql import SparkSession\n",
        "sparkSession=SparkSession.builder.appName('Practise_Session').getOrCreate()"
      ],
      "metadata": {
        "id": "EZPTC2D_bZ_M"
      },
      "execution_count": 22,
      "outputs": []
    },
    {
      "cell_type": "code",
      "source": [
        "df_pyspark=sparkSession.read.csv('test2.csv',header=True,inferSchema=True)\n",
        "df_pyspark.show()"
      ],
      "metadata": {
        "colab": {
          "base_uri": "https://localhost:8080/"
        },
        "id": "hxmPqXhtbuXm",
        "outputId": "8b1c3bd5-0dff-4b0e-db43-5af247c60208"
      },
      "execution_count": 62,
      "outputs": [
        {
          "output_type": "stream",
          "name": "stdout",
          "text": [
            "+-----+----+------+----------+\n",
            "| Name| Age|Salary|Experience|\n",
            "+-----+----+------+----------+\n",
            "|Peter|  58| 13000|         9|\n",
            "| Jack|  52| 10000|         3|\n",
            "| John|  37|  7000|         5|\n",
            "|  Bob|  54|  5000|         8|\n",
            "| NULL|NULL|  NULL|      NULL|\n",
            "|Katie|  52|  7000|         2|\n",
            "|Katie|  30|  5000|         3|\n",
            "| Rose|  39| 14000|         2|\n",
            "| Jack|  40|  3000|         4|\n",
            "| Rose|  56|  1000|         1|\n",
            "| Emma|  44|  3000|         8|\n",
            "| NULL|NULL|  NULL|      NULL|\n",
            "|Frank|  24| 15000|         4|\n",
            "|David|  27| 12000|         2|\n",
            "| Noah|  53|  2000|         3|\n",
            "| Rose|  22| 14000|         3|\n",
            "|  Sam|  39|  1000|        10|\n",
            "| Rose|  28|  3000|         8|\n",
            "| Noah|  54|  6000|         5|\n",
            "|Peter|  59| 15000|         5|\n",
            "+-----+----+------+----------+\n",
            "\n"
          ]
        }
      ]
    },
    {
      "cell_type": "code",
      "source": [
        "df_pyspark.printSchema()"
      ],
      "metadata": {
        "colab": {
          "base_uri": "https://localhost:8080/"
        },
        "id": "i-7ir6VncL0N",
        "outputId": "f090b8fb-9c04-437d-c699-2f6a443a19cd"
      },
      "execution_count": 63,
      "outputs": [
        {
          "output_type": "stream",
          "name": "stdout",
          "text": [
            "root\n",
            " |-- Name: string (nullable = true)\n",
            " |-- Age: integer (nullable = true)\n",
            " |-- Salary: integer (nullable = true)\n",
            " |-- Experience: integer (nullable = true)\n",
            "\n"
          ]
        }
      ]
    },
    {
      "cell_type": "code",
      "source": [
        "#drop the columns\n",
        "df_pyspark  = df_pyspark.drop('Name')\n",
        "df_pyspark.show()"
      ],
      "metadata": {
        "id": "uiKVXT7lcN2T",
        "colab": {
          "base_uri": "https://localhost:8080/"
        },
        "outputId": "1b450e7e-b951-413c-e2e4-8a22f6f2114a"
      },
      "execution_count": 25,
      "outputs": [
        {
          "output_type": "stream",
          "name": "stdout",
          "text": [
            "+----+------+----------+\n",
            "| Age|Salary|Experience|\n",
            "+----+------+----------+\n",
            "|  58| 13000|         9|\n",
            "|  52| 10000|         3|\n",
            "|  37|  7000|         5|\n",
            "|  54|  5000|         8|\n",
            "|NULL|  NULL|      NULL|\n",
            "|  52|  7000|         2|\n",
            "|  30|  5000|         3|\n",
            "|  39| 14000|         2|\n",
            "|  40|  3000|         4|\n",
            "|  56|  1000|         1|\n",
            "|  44|  3000|         8|\n",
            "|NULL|  NULL|      NULL|\n",
            "|  24| 15000|         4|\n",
            "|  27| 12000|         2|\n",
            "|  53|  2000|         3|\n",
            "|  22| 14000|         3|\n",
            "|  39|  1000|        10|\n",
            "|  28|  3000|         8|\n",
            "|  54|  6000|         5|\n",
            "|  59| 15000|         5|\n",
            "+----+------+----------+\n",
            "\n"
          ]
        }
      ]
    },
    {
      "cell_type": "code",
      "source": [
        "df_pyspark.show()"
      ],
      "metadata": {
        "colab": {
          "base_uri": "https://localhost:8080/"
        },
        "id": "w6U3QdMvim85",
        "outputId": "5c8d4760-6831-49a9-ffb5-5622196233ac"
      },
      "execution_count": 26,
      "outputs": [
        {
          "output_type": "stream",
          "name": "stdout",
          "text": [
            "+----+------+----------+\n",
            "| Age|Salary|Experience|\n",
            "+----+------+----------+\n",
            "|  58| 13000|         9|\n",
            "|  52| 10000|         3|\n",
            "|  37|  7000|         5|\n",
            "|  54|  5000|         8|\n",
            "|NULL|  NULL|      NULL|\n",
            "|  52|  7000|         2|\n",
            "|  30|  5000|         3|\n",
            "|  39| 14000|         2|\n",
            "|  40|  3000|         4|\n",
            "|  56|  1000|         1|\n",
            "|  44|  3000|         8|\n",
            "|NULL|  NULL|      NULL|\n",
            "|  24| 15000|         4|\n",
            "|  27| 12000|         2|\n",
            "|  53|  2000|         3|\n",
            "|  22| 14000|         3|\n",
            "|  39|  1000|        10|\n",
            "|  28|  3000|         8|\n",
            "|  54|  6000|         5|\n",
            "|  59| 15000|         5|\n",
            "+----+------+----------+\n",
            "\n"
          ]
        }
      ]
    },
    {
      "cell_type": "code",
      "source": [
        "# df_pyspark.na.drop().show()"
      ],
      "metadata": {
        "id": "OEUdbSgmiuAl"
      },
      "execution_count": null,
      "outputs": []
    },
    {
      "cell_type": "code",
      "source": [
        "from pyspark.sql.functions import mean\n",
        "\n",
        "# Impute missing values in the 'Age', 'Salary', and 'ExtraColumn' columns with their respective mean values\n",
        "mean_values = df_pyspark.select([mean('Age').alias('mean_age'),\n",
        "                                 mean('Salary').alias('mean_salary'),\n",
        "                                 mean('Experience').alias('mean_Experience')]).collect()\n",
        "\n",
        "# Extract mean values\n",
        "mean_age = mean_values[0]['mean_age']\n",
        "mean_salary = mean_values[0]['mean_salary']\n",
        "mean_Experience= mean_values[0]['mean_Experience']\n",
        "\n",
        "# Fill missing values with mean values\n",
        "imputed_df = df_pyspark.fillna({'Age': mean_age, 'Salary': mean_salary, 'Experience': mean_Experience})\n",
        "\n",
        "# Show the DataFrame with imputed values\n",
        "imputed_df.show()"
      ],
      "metadata": {
        "colab": {
          "base_uri": "https://localhost:8080/"
        },
        "id": "O3GfN4VixdX_",
        "outputId": "1445f5b2-0def-4612-a445-3cb20d745377"
      },
      "execution_count": 35,
      "outputs": [
        {
          "output_type": "stream",
          "name": "stdout",
          "text": [
            "+---+------+----------+\n",
            "|Age|Salary|Experience|\n",
            "+---+------+----------+\n",
            "| 58| 13000|         9|\n",
            "| 52| 10000|         3|\n",
            "| 37|  7000|         5|\n",
            "| 54|  5000|         8|\n",
            "| 42|  7555|         4|\n",
            "| 52|  7000|         2|\n",
            "| 30|  5000|         3|\n",
            "| 39| 14000|         2|\n",
            "| 40|  3000|         4|\n",
            "| 56|  1000|         1|\n",
            "| 44|  3000|         8|\n",
            "| 42|  7555|         4|\n",
            "| 24| 15000|         4|\n",
            "| 27| 12000|         2|\n",
            "| 53|  2000|         3|\n",
            "| 22| 14000|         3|\n",
            "| 39|  1000|        10|\n",
            "| 28|  3000|         8|\n",
            "| 54|  6000|         5|\n",
            "| 59| 15000|         5|\n",
            "+---+------+----------+\n",
            "\n"
          ]
        }
      ]
    },
    {
      "cell_type": "code",
      "source": [
        "mean_values_list = [mean_age, mean_salary, mean_Experience]\n",
        "mean_values_list"
      ],
      "metadata": {
        "colab": {
          "base_uri": "https://localhost:8080/"
        },
        "id": "Rml-OhdqzTNk",
        "outputId": "ad92428a-eb6e-4a6c-8f65-46ee14a46b8a"
      },
      "execution_count": 39,
      "outputs": [
        {
          "output_type": "execute_result",
          "data": {
            "text/plain": [
              "[42.666666666666664, 7555.555555555556, 4.722222222222222]"
            ]
          },
          "metadata": {},
          "execution_count": 39
        }
      ]
    },
    {
      "cell_type": "code",
      "source": [
        "df_pyspark.printSchema()"
      ],
      "metadata": {
        "colab": {
          "base_uri": "https://localhost:8080/"
        },
        "id": "qZSxC0Wcy30b",
        "outputId": "8a041c96-981a-4388-9154-cc6ace0ae7d4"
      },
      "execution_count": 37,
      "outputs": [
        {
          "output_type": "stream",
          "name": "stdout",
          "text": [
            "root\n",
            " |-- Age: integer (nullable = true)\n",
            " |-- Salary: integer (nullable = true)\n",
            " |-- Experience: integer (nullable = true)\n",
            "\n"
          ]
        }
      ]
    },
    {
      "cell_type": "code",
      "source": [
        "from pyspark.ml.feature import Imputer\n",
        "\n",
        "imputer = Imputer(\n",
        "    inputCols=['Age', 'Experience', 'Salary'],\n",
        "    outputCols=[\"{}_imputed\".format(c) for c in ['Age', 'Experience', 'Salary']]\n",
        "    ).setStrategy(\"median\")"
      ],
      "metadata": {
        "id": "-raOuh3azgO8"
      },
      "execution_count": 44,
      "outputs": []
    },
    {
      "cell_type": "code",
      "source": [
        "# Add imputation cols to df\n",
        "imputer.fit(df_pyspark).transform(df_pyspark).show()"
      ],
      "metadata": {
        "colab": {
          "base_uri": "https://localhost:8080/"
        },
        "id": "UnOmD6wvz7wM",
        "outputId": "d5f3cdf6-9c5e-4df0-ad36-852b0384dede"
      },
      "execution_count": 45,
      "outputs": [
        {
          "output_type": "stream",
          "name": "stdout",
          "text": [
            "+----+------+----------+-----------+------------------+--------------+\n",
            "| Age|Salary|Experience|Age_imputed|Experience_imputed|Salary_imputed|\n",
            "+----+------+----------+-----------+------------------+--------------+\n",
            "|  58| 13000|         9|         58|                 9|         13000|\n",
            "|  52| 10000|         3|         52|                 3|         10000|\n",
            "|  37|  7000|         5|         37|                 5|          7000|\n",
            "|  54|  5000|         8|         54|                 8|          5000|\n",
            "|NULL|  NULL|      NULL|         40|                 4|          6000|\n",
            "|  52|  7000|         2|         52|                 2|          7000|\n",
            "|  30|  5000|         3|         30|                 3|          5000|\n",
            "|  39| 14000|         2|         39|                 2|         14000|\n",
            "|  40|  3000|         4|         40|                 4|          3000|\n",
            "|  56|  1000|         1|         56|                 1|          1000|\n",
            "|  44|  3000|         8|         44|                 8|          3000|\n",
            "|NULL|  NULL|      NULL|         40|                 4|          6000|\n",
            "|  24| 15000|         4|         24|                 4|         15000|\n",
            "|  27| 12000|         2|         27|                 2|         12000|\n",
            "|  53|  2000|         3|         53|                 3|          2000|\n",
            "|  22| 14000|         3|         22|                 3|         14000|\n",
            "|  39|  1000|        10|         39|                10|          1000|\n",
            "|  28|  3000|         8|         28|                 8|          3000|\n",
            "|  54|  6000|         5|         54|                 5|          6000|\n",
            "|  59| 15000|         5|         59|                 5|         15000|\n",
            "+----+------+----------+-----------+------------------+--------------+\n",
            "\n"
          ]
        }
      ]
    },
    {
      "cell_type": "code",
      "source": [
        "from pyspark.ml.feature import Imputer\n",
        "\n",
        "# Define the Imputer transformation with the original column names\n",
        "imputer = Imputer(\n",
        "    inputCols=['Age', 'Experience', 'Salary'],\n",
        "    outputCols=['Age', 'Experience', 'Salary']  # Use the original column names\n",
        ").setStrategy(\"median\")\n",
        "\n",
        "# Fit the Imputer model and transform the DataFrame\n",
        "imputed_df = imputer.fit(df_pyspark).transform(df_pyspark)\n",
        "\n",
        "# Show the DataFrame with imputed values and original column names\n",
        "imputed_df.show()"
      ],
      "metadata": {
        "colab": {
          "base_uri": "https://localhost:8080/"
        },
        "id": "XPgXILOt8Gfp",
        "outputId": "43565a8c-6789-42fb-b573-c671b7cc3466"
      },
      "execution_count": 68,
      "outputs": [
        {
          "output_type": "stream",
          "name": "stdout",
          "text": [
            "+-----+---+------+----------+\n",
            "| Name|Age|Salary|Experience|\n",
            "+-----+---+------+----------+\n",
            "|Peter| 58| 13000|         9|\n",
            "| Jack| 52| 10000|         3|\n",
            "| John| 37|  7000|         5|\n",
            "|  Bob| 54|  5000|         8|\n",
            "| NULL| 40|  6000|         4|\n",
            "|Katie| 52|  7000|         2|\n",
            "|Katie| 30|  5000|         3|\n",
            "| Rose| 39| 14000|         2|\n",
            "| Jack| 40|  3000|         4|\n",
            "| Rose| 56|  1000|         1|\n",
            "| Emma| 44|  3000|         8|\n",
            "| NULL| 40|  6000|         4|\n",
            "|Frank| 24| 15000|         4|\n",
            "|David| 27| 12000|         2|\n",
            "| Noah| 53|  2000|         3|\n",
            "| Rose| 22| 14000|         3|\n",
            "|  Sam| 39|  1000|        10|\n",
            "| Rose| 28|  3000|         8|\n",
            "| Noah| 54|  6000|         5|\n",
            "|Peter| 59| 15000|         5|\n",
            "+-----+---+------+----------+\n",
            "\n"
          ]
        }
      ]
    },
    {
      "cell_type": "markdown",
      "source": [
        "# **Pyspark Filteration:**"
      ],
      "metadata": {
        "id": "90mL6n-94X9L"
      }
    },
    {
      "cell_type": "code",
      "source": [
        "# Salary of the people less than or equal to 20000\n",
        "imputed_df.filter(\"Salary<=15000\").show()"
      ],
      "metadata": {
        "colab": {
          "base_uri": "https://localhost:8080/"
        },
        "id": "pHpFLd3v4a1g",
        "outputId": "1cad5761-6c27-45f3-a667-ff29009c29b2"
      },
      "execution_count": 70,
      "outputs": [
        {
          "output_type": "stream",
          "name": "stdout",
          "text": [
            "+-----+---+------+----------+\n",
            "| Name|Age|Salary|Experience|\n",
            "+-----+---+------+----------+\n",
            "|Peter| 58| 13000|         9|\n",
            "| Jack| 52| 10000|         3|\n",
            "| John| 37|  7000|         5|\n",
            "|  Bob| 54|  5000|         8|\n",
            "| NULL| 40|  6000|         4|\n",
            "|Katie| 52|  7000|         2|\n",
            "|Katie| 30|  5000|         3|\n",
            "| Rose| 39| 14000|         2|\n",
            "| Jack| 40|  3000|         4|\n",
            "| Rose| 56|  1000|         1|\n",
            "| Emma| 44|  3000|         8|\n",
            "| NULL| 40|  6000|         4|\n",
            "|Frank| 24| 15000|         4|\n",
            "|David| 27| 12000|         2|\n",
            "| Noah| 53|  2000|         3|\n",
            "| Rose| 22| 14000|         3|\n",
            "|  Sam| 39|  1000|        10|\n",
            "| Rose| 28|  3000|         8|\n",
            "| Noah| 54|  6000|         5|\n",
            "|Peter| 59| 15000|         5|\n",
            "+-----+---+------+----------+\n",
            "\n"
          ]
        }
      ]
    },
    {
      "cell_type": "code",
      "source": [
        "imputed_df.filter(\"Salary>10000\").select(['Salary','Age']).show()"
      ],
      "metadata": {
        "colab": {
          "base_uri": "https://localhost:8080/"
        },
        "id": "ykM4X9e54zsS",
        "outputId": "f7945b38-56eb-4e04-af58-b2931e4091c2"
      },
      "execution_count": 71,
      "outputs": [
        {
          "output_type": "stream",
          "name": "stdout",
          "text": [
            "+------+---+\n",
            "|Salary|Age|\n",
            "+------+---+\n",
            "| 13000| 58|\n",
            "| 14000| 39|\n",
            "| 15000| 24|\n",
            "| 12000| 27|\n",
            "| 14000| 22|\n",
            "| 15000| 59|\n",
            "+------+---+\n",
            "\n"
          ]
        }
      ]
    },
    {
      "cell_type": "markdown",
      "source": [
        "Display of rows either the salary is less than or equal to 20000, or the salary is greater than or equal to 15000:"
      ],
      "metadata": {
        "id": "Kk1IxEz15LCy"
      }
    },
    {
      "cell_type": "code",
      "source": [
        "# Filter rows where 'Salary' satisfies either of the conditions, and show the result\n",
        "df_pyspark.filter((df_pyspark['Salary']<=15000) | (df_pyspark['Salary']>=10000)).show()"
      ],
      "metadata": {
        "colab": {
          "base_uri": "https://localhost:8080/"
        },
        "id": "FB8bKJ_j541w",
        "outputId": "9bb2fe96-905c-41b9-8b2b-57dc8c0a0ada"
      },
      "execution_count": 72,
      "outputs": [
        {
          "output_type": "stream",
          "name": "stdout",
          "text": [
            "+-----+---+------+----------+\n",
            "| Name|Age|Salary|Experience|\n",
            "+-----+---+------+----------+\n",
            "|Peter| 58| 13000|         9|\n",
            "| Jack| 52| 10000|         3|\n",
            "| John| 37|  7000|         5|\n",
            "|  Bob| 54|  5000|         8|\n",
            "|Katie| 52|  7000|         2|\n",
            "|Katie| 30|  5000|         3|\n",
            "| Rose| 39| 14000|         2|\n",
            "| Jack| 40|  3000|         4|\n",
            "| Rose| 56|  1000|         1|\n",
            "| Emma| 44|  3000|         8|\n",
            "|Frank| 24| 15000|         4|\n",
            "|David| 27| 12000|         2|\n",
            "| Noah| 53|  2000|         3|\n",
            "| Rose| 22| 14000|         3|\n",
            "|  Sam| 39|  1000|        10|\n",
            "| Rose| 28|  3000|         8|\n",
            "| Noah| 54|  6000|         5|\n",
            "|Peter| 59| 15000|         5|\n",
            "+-----+---+------+----------+\n",
            "\n"
          ]
        }
      ]
    },
    {
      "cell_type": "code",
      "source": [
        "# Filter rows where 'Salary' is not less than or equal to 20000, and show the result\n",
        "df_pyspark.filter(~(df_pyspark['Salary']<=10000)).show()"
      ],
      "metadata": {
        "colab": {
          "base_uri": "https://localhost:8080/"
        },
        "id": "RttYgE456Hlp",
        "outputId": "1f79dc21-b147-4a25-e06b-4c728eacb3ce"
      },
      "execution_count": 73,
      "outputs": [
        {
          "output_type": "stream",
          "name": "stdout",
          "text": [
            "+-----+---+------+----------+\n",
            "| Name|Age|Salary|Experience|\n",
            "+-----+---+------+----------+\n",
            "|Peter| 58| 13000|         9|\n",
            "| Rose| 39| 14000|         2|\n",
            "|Frank| 24| 15000|         4|\n",
            "|David| 27| 12000|         2|\n",
            "| Rose| 22| 14000|         3|\n",
            "|Peter| 59| 15000|         5|\n",
            "+-----+---+------+----------+\n",
            "\n"
          ]
        }
      ]
    },
    {
      "cell_type": "markdown",
      "source": [
        "# **Pyspark GroupBy And Aggregate Functions:**"
      ],
      "metadata": {
        "id": "F9fBCHd06ZVB"
      }
    },
    {
      "cell_type": "code",
      "source": [
        "from pyspark.sql import functions as F\n",
        "\n",
        "# Group by 'Name' and aggregate to find the maximum salary for each group\n",
        "max_salary_df = imputed_df.groupBy('Age').agg(F.max('Salary').alias('Max'))\n",
        "\n",
        "# Show the DataFrame with the maximum salary for each group\n",
        "max_salary_df.show()"
      ],
      "metadata": {
        "colab": {
          "base_uri": "https://localhost:8080/"
        },
        "id": "jlkadwz_6bH-",
        "outputId": "5774b20a-b111-4c43-f5c7-14960668f26f"
      },
      "execution_count": 75,
      "outputs": [
        {
          "output_type": "stream",
          "name": "stdout",
          "text": [
            "+---+-----+\n",
            "|Age|  Max|\n",
            "+---+-----+\n",
            "| 53| 2000|\n",
            "| 28| 3000|\n",
            "| 27|12000|\n",
            "| 44| 3000|\n",
            "| 22|14000|\n",
            "| 52|10000|\n",
            "| 40| 6000|\n",
            "| 54| 6000|\n",
            "| 37| 7000|\n",
            "| 59|15000|\n",
            "| 39|14000|\n",
            "| 24|15000|\n",
            "| 56| 1000|\n",
            "| 58|13000|\n",
            "| 30| 5000|\n",
            "+---+-----+\n",
            "\n"
          ]
        }
      ]
    },
    {
      "cell_type": "code",
      "source": [
        "df_pyspark.groupBy('Name').count().show()"
      ],
      "metadata": {
        "colab": {
          "base_uri": "https://localhost:8080/"
        },
        "id": "la9BaM3W7mY4",
        "outputId": "2660bc1b-6068-4e4e-a5bb-44ff3932a376"
      },
      "execution_count": 77,
      "outputs": [
        {
          "output_type": "stream",
          "name": "stdout",
          "text": [
            "+-----+-----+\n",
            "| Name|count|\n",
            "+-----+-----+\n",
            "| Rose|    4|\n",
            "| Jack|    2|\n",
            "| NULL|    2|\n",
            "|Katie|    2|\n",
            "| Noah|    2|\n",
            "|  Bob|    1|\n",
            "| John|    1|\n",
            "|  Sam|    1|\n",
            "| Emma|    1|\n",
            "|Peter|    2|\n",
            "|David|    1|\n",
            "|Frank|    1|\n",
            "+-----+-----+\n",
            "\n"
          ]
        }
      ]
    },
    {
      "cell_type": "code",
      "source": [
        "# Apply aggregate functions\n",
        "df_pyspark.agg(\n",
        "    F.avg('Age').alias('Average_Age'),\n",
        "    F.sum('Salary').alias('Total_Salary'),\n",
        "    F.max('Experience').alias('Max_Experience'),\n",
        "    F.min('Age').alias('Min_Age'),\n",
        "    F.count('Name').alias('Total_Count'),\n",
        "    F.countDistinct('Name').alias('Distinct_Name_Count'),\n",
        "    F.stddev('Salary').alias('Salary_StdDev'),\n",
        "    F.variance('Salary').alias('Salary_Variance')\n",
        ").show()"
      ],
      "metadata": {
        "colab": {
          "base_uri": "https://localhost:8080/"
        },
        "id": "4aukeE4M89kA",
        "outputId": "5bac8b7a-ea8d-4633-a203-7268f8442801"
      },
      "execution_count": 78,
      "outputs": [
        {
          "output_type": "stream",
          "name": "stdout",
          "text": [
            "+------------------+------------+--------------+-------+-----------+-------------------+-----------------+------------------+\n",
            "|       Average_Age|Total_Salary|Max_Experience|Min_Age|Total_Count|Distinct_Name_Count|    Salary_StdDev|   Salary_Variance|\n",
            "+------------------+------------+--------------+-------+-----------+-------------------+-----------------+------------------+\n",
            "|42.666666666666664|      136000|            10|     22|         18|                 11|5113.099925649136|2.61437908496732E7|\n",
            "+------------------+------------+--------------+-------+-----------+-------------------+-----------------+------------------+\n",
            "\n"
          ]
        }
      ]
    }
  ]
}